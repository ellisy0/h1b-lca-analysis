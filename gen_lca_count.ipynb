{
 "cells": [
  {
   "cell_type": "code",
   "execution_count": 2,
   "metadata": {},
   "outputs": [],
   "source": [
    "import pandas as pd\n",
    "import os"
   ]
  },
  {
   "cell_type": "code",
   "execution_count": 3,
   "metadata": {},
   "outputs": [],
   "source": [
    "data_dir = 'data/'\n",
    "dfs = []\n",
    "\n",
    "for file in os.listdir(data_dir):\n",
    "    if file.endswith('.csv'):\n",
    "        dfs.append(pd.read_csv(os.path.join(data_dir, file), low_memory=False))\n",
    "\n",
    "df = pd.concat(dfs, ignore_index=True)"
   ]
  },
  {
   "cell_type": "code",
   "execution_count": 4,
   "metadata": {},
   "outputs": [],
   "source": [
    "# Filter out rows which CASE_STATUS is not Certified\n",
    "df_fil_all_cases = df[df['CASE_STATUS'] == 'Certified']\n",
    "# Turn all EMPLOYER_NAME to upper case, strip leading and trailing spaces\n",
    "df_fil = df_fil_all_cases.copy()\n",
    "df_fil['EMPLOYER_NAME'] = df_fil['EMPLOYER_NAME'].str.upper().str.strip()"
   ]
  },
  {
   "cell_type": "code",
   "execution_count": 5,
   "metadata": {},
   "outputs": [],
   "source": [
    "\n",
    "# Group by EMPLOYER_NAME, sort descending\n",
    "df_sorted_20191001_20230630 = df_fil.groupby('EMPLOYER_NAME').size().sort_values(ascending=False)\n",
    "df_sorted_20191001_20230630.name = '# of certified LCA since 2019-10-01'\n",
    "# Filter to only include DECISION_DATE after 2021-07-01, sum by EMPLOYER_NAME, sort descending\n",
    "df_sorted_20210701_20230630 = df_fil[df_fil['DECISION_DATE'] >= '2021-07-01'].groupby('EMPLOYER_NAME').size().sort_values(ascending=False)\n",
    "df_sorted_20210701_20230630.name = '# of certified LCA since 2021-07-01'\n",
    "\n",
    "# Write to csv\n",
    "df_sorted_20191001_20230630.to_csv('output/20191001_20230630.csv')\n",
    "df_sorted_20210701_20230630.to_csv('output/20210701_20230630.csv')"
   ]
  },
  {
   "cell_type": "code",
   "execution_count": 6,
   "metadata": {},
   "outputs": [],
   "source": [
    "# Filter out rows which SOC_TITLE does not contain \"SOFTWARE DEVELOPERS\", ignore case\n",
    "df_fil_software = df_fil[df_fil['SOC_TITLE'].str.contains('SOFTWARE DEVELOPERS', case=False)]\n",
    "\n",
    "# Group by EMPLOYER_NAME, sort descending\n",
    "df_sorted_software_20191001_20230630 = df_fil_software.groupby('EMPLOYER_NAME').size().sort_values(ascending=False)\n",
    "df_sorted_software_20191001_20230630.name = '# of certified Software LCA since 2019-10-01'\n",
    "# Filter to only include DECISION_DATE after 2021-07-01, sum by EMPLOYER_NAME, sort descending\n",
    "df_sorted_software_20210701_20230630 = df_fil_software[df_fil_software['DECISION_DATE'] >= '2021-07-01'].groupby('EMPLOYER_NAME').size().sort_values(ascending=False)\n",
    "df_sorted_software_20210701_20230630.name = '# of certified Software LCA since 2021-07-01'\n",
    "\n",
    "# Write to csv\n",
    "df_sorted_software_20191001_20230630.to_csv('output/software_20191001_20230630.csv')\n",
    "df_sorted_software_20210701_20230630.to_csv('output/software_20210701_20230630.csv')"
   ]
  },
  {
   "cell_type": "code",
   "execution_count": 7,
   "metadata": {},
   "outputs": [
    {
     "name": "stdout",
     "output_type": "stream",
     "text": [
      "There are 2278410 LCA in total.\n",
      "There are 868631 software LCA in total.\n"
     ]
    }
   ],
   "source": [
    "# How many software LCA are there?\n",
    "print(f'There are {len(df_fil)} LCA in total.')\n",
    "print(f'There are {len(df_fil_software)} software LCA in total.')"
   ]
  },
  {
   "cell_type": "code",
   "execution_count": 8,
   "metadata": {},
   "outputs": [],
   "source": [
    "# Group by SOC_TITLE, sort descending\n",
    "df_sorted_soc = df_fil.groupby('SOC_TITLE').size().sort_values(ascending=False)\n",
    "df_sorted_soc.name = '# of certified LCA by SOC_TITLE'\n",
    "df_sorted_soc.to_csv('output/soc.csv')"
   ]
  },
  {
   "cell_type": "code",
   "execution_count": 9,
   "metadata": {},
   "outputs": [],
   "source": [
    "# Filter out all company names that is not the target value, sum by SOC_TITLE, sort descending\n",
    "target_company = 'INFOSYS LIMITED'\n",
    "df_fil_company = df_fil[df_fil['EMPLOYER_NAME'] == target_company]\n",
    "df_sorted_company = df_fil_company.groupby('SOC_TITLE').size().sort_values(ascending=False)\n",
    "df_sorted_company.name = f'# of certified LCA by SOC_TITLE for {target_company}'\n",
    "df_sorted_company.to_csv(f'output/soc_{target_company}.csv')"
   ]
  }
 ],
 "metadata": {
  "kernelspec": {
   "display_name": "Python 3",
   "language": "python",
   "name": "python3"
  },
  "language_info": {
   "codemirror_mode": {
    "name": "ipython",
    "version": 3
   },
   "file_extension": ".py",
   "mimetype": "text/x-python",
   "name": "python",
   "nbconvert_exporter": "python",
   "pygments_lexer": "ipython3",
   "version": "3.11.4"
  },
  "orig_nbformat": 4
 },
 "nbformat": 4,
 "nbformat_minor": 2
}
