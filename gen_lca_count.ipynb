{
 "cells": [
  {
   "cell_type": "code",
   "execution_count": 1,
   "metadata": {},
   "outputs": [],
   "source": [
    "import pandas as pd\n",
    "import os"
   ]
  },
  {
   "cell_type": "code",
   "execution_count": 12,
   "metadata": {},
   "outputs": [],
   "source": [
    "data_dir = 'data/'\n",
    "dfs = []\n",
    "\n",
    "for file in os.listdir(data_dir):\n",
    "    if file.endswith('.csv'):\n",
    "        dfs.append(pd.read_csv(os.path.join(data_dir, file), low_memory=False))\n",
    "\n",
    "df = pd.concat(dfs, ignore_index=True)"
   ]
  },
  {
   "cell_type": "code",
   "execution_count": 17,
   "metadata": {},
   "outputs": [],
   "source": [
    "# Filter out rows which CASE_STATUS is not Certified\n",
    "df_fil = df[df['CASE_STATUS'] == 'Certified']"
   ]
  },
  {
   "cell_type": "code",
   "execution_count": 29,
   "metadata": {},
   "outputs": [],
   "source": [
    "\n",
    "# Sum by EMPLOYER_NAME, sort descending\n",
    "df_sorted_20191001_20230630 = df_fil.groupby('EMPLOYER_NAME').size().sort_values(ascending=False)\n",
    "df_sorted_20191001_20230630.name = '# of certified LCA since 2019-10-01'\n",
    "# Filter to only include DECISION_DATE after 2021-07-01, sum by EMPLOYER_NAME, sort descending\n",
    "df_sorted_20210701_20230630 = df_fil[df_fil['DECISION_DATE'] >= '2021-07-01'].groupby('EMPLOYER_NAME').size().sort_values(ascending=False)\n",
    "df_sorted_20210701_20230630.name = '# of certified LCA since 2021-07-01'"
   ]
  },
  {
   "cell_type": "code",
   "execution_count": 30,
   "metadata": {},
   "outputs": [],
   "source": [
    "# Write to csv\n",
    "df_sorted_20191001_20230630.to_csv('output/20191001_20230630.csv')\n",
    "df_sorted_20210701_20230630.to_csv('output/20210701_20230630.csv')"
   ]
  },
  {
   "cell_type": "code",
   "execution_count": 38,
   "metadata": {},
   "outputs": [],
   "source": [
    "# Filter out rows which SOC_TITLE does not contain \"SOFTWARE DEVELOPERS\", ignore case\n",
    "df_fil_software = df_fil[df_fil['SOC_TITLE'].str.contains('SOFTWARE DEVELOPERS', case=False)]"
   ]
  },
  {
   "cell_type": "code",
   "execution_count": 40,
   "metadata": {},
   "outputs": [],
   "source": [
    "# Sum by EMPLOYER_NAME, sort descending\n",
    "df_sorted_software_20191001_20230630 = df_fil_software.groupby('EMPLOYER_NAME').size().sort_values(ascending=False)\n",
    "df_sorted_software_20191001_20230630.name = '# of certified Software LCA since 2019-10-01'\n",
    "# Filter to only include DECISION_DATE after 2021-07-01, sum by EMPLOYER_NAME, sort descending\n",
    "df_sorted_software_20210701_20230630 = df_fil_software[df_fil_software['DECISION_DATE'] >= '2021-07-01'].groupby('EMPLOYER_NAME').size().sort_values(ascending=False)\n",
    "df_sorted_software_20210701_20230630.name = '# of certified Software LCA since 2021-07-01'"
   ]
  },
  {
   "cell_type": "code",
   "execution_count": 41,
   "metadata": {},
   "outputs": [],
   "source": [
    "# Write to csv\n",
    "df_sorted_software_20191001_20230630.to_csv('output/software_20191001_20230630.csv')\n",
    "df_sorted_software_20210701_20230630.to_csv('output/software_20210701_20230630.csv')"
   ]
  },
  {
   "cell_type": "code",
   "execution_count": 42,
   "metadata": {},
   "outputs": [
    {
     "name": "stdout",
     "output_type": "stream",
     "text": [
      "There are 2278410 LCA in total.\n",
      "There are 868631 software LCA in total.\n"
     ]
    }
   ],
   "source": [
    "# How many software LCA are there?\n",
    "print(f'There are {len(df_fil)} LCA in total.')\n",
    "print(f'There are {len(df_fil_software)} software LCA in total.')"
   ]
  }
 ],
 "metadata": {
  "kernelspec": {
   "display_name": "Python 3",
   "language": "python",
   "name": "python3"
  },
  "language_info": {
   "codemirror_mode": {
    "name": "ipython",
    "version": 3
   },
   "file_extension": ".py",
   "mimetype": "text/x-python",
   "name": "python",
   "nbconvert_exporter": "python",
   "pygments_lexer": "ipython3",
   "version": "3.11.4"
  },
  "orig_nbformat": 4
 },
 "nbformat": 4,
 "nbformat_minor": 2
}
